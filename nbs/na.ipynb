{
 "cells": [
  {
   "cell_type": "code",
   "execution_count": 1,
   "id": "ca1c1cb3",
   "metadata": {},
   "outputs": [],
   "source": [
    "#cramers method"
   ]
  },
  {
   "cell_type": "code",
   "execution_count": 1,
   "id": "1e80c70a",
   "metadata": {},
   "outputs": [],
   "source": [
    "import numpy as np\n",
    "import math"
   ]
  },
  {
   "cell_type": "code",
   "execution_count": 32,
   "id": "af09a1dc",
   "metadata": {},
   "outputs": [],
   "source": [
    "sz = 3\n",
    "mat = [3,4,2,-1,3,-4,2,2,5]\n",
    "rhs = [5,2,-6]\n"
   ]
  },
  {
   "cell_type": "code",
   "execution_count": null,
   "id": "f45b1365",
   "metadata": {},
   "outputs": [],
   "source": [
    "det(mat)"
   ]
  },
  {
   "cell_type": "code",
   "execution_count": 10,
   "id": "32f1e73d",
   "metadata": {},
   "outputs": [],
   "source": [
    "mat = np.array(mat).reshape(sz,sz)"
   ]
  },
  {
   "cell_type": "code",
   "execution_count": 12,
   "id": "2b1d3dc0",
   "metadata": {},
   "outputs": [
    {
     "data": {
      "text/plain": [
       "array([[ 3,  4,  2],\n",
       "       [-1,  3, -4],\n",
       "       [ 2,  2,  5]])"
      ]
     },
     "execution_count": 12,
     "metadata": {},
     "output_type": "execute_result"
    }
   ],
   "source": [
    "mat"
   ]
  },
  {
   "cell_type": "code",
   "execution_count": 14,
   "id": "d935e83e",
   "metadata": {},
   "outputs": [],
   "source": [
    "mat[:,0] = rhs"
   ]
  },
  {
   "cell_type": "code",
   "execution_count": 15,
   "id": "2afa6083",
   "metadata": {},
   "outputs": [
    {
     "data": {
      "text/plain": [
       "array([[ 5,  4,  2],\n",
       "       [ 2,  3, -4],\n",
       "       [-6,  2,  5]])"
      ]
     },
     "execution_count": 15,
     "metadata": {},
     "output_type": "execute_result"
    }
   ],
   "source": [
    "mat"
   ]
  },
  {
   "cell_type": "code",
   "execution_count": 23,
   "id": "52242a51",
   "metadata": {},
   "outputs": [
    {
     "ename": "AttributeError",
     "evalue": "'list' object has no attribute 'shape'",
     "output_type": "error",
     "traceback": [
      "\u001b[0;31m---------------------------------------------------------------------------\u001b[0m",
      "\u001b[0;31mAttributeError\u001b[0m                            Traceback (most recent call last)",
      "\u001b[0;32m/var/folders/6s/nw_b57qx32g5bn634np_6qnh0000gn/T/ipykernel_28590/4215037615.py\u001b[0m in \u001b[0;36m<module>\u001b[0;34m\u001b[0m\n\u001b[0;32m----> 1\u001b[0;31m \u001b[0mmat\u001b[0m\u001b[0;34m.\u001b[0m\u001b[0mshape\u001b[0m\u001b[0;34m\u001b[0m\u001b[0;34m\u001b[0m\u001b[0m\n\u001b[0m",
      "\u001b[0;31mAttributeError\u001b[0m: 'list' object has no attribute 'shape'"
     ]
    }
   ],
   "source": [
    "mat.shape"
   ]
  },
  {
   "cell_type": "code",
   "execution_count": 33,
   "id": "1cb0dcbe",
   "metadata": {},
   "outputs": [],
   "source": [
    "def cramers_rule(sz,mat,rhs):\n",
    "    mat = np.array(mat).reshape(sz,sz)\n",
    "    rhs = np.array(rhs)\n",
    "    base_det = np.linalg.det(mat)\n",
    "    interemediate_dets = []\n",
    "    roots = []\n",
    "    for i in range(sz):\n",
    "        new_arr = np.array(mat)\n",
    "        new_arr[:,i] = rhs\n",
    "        i_det = np.linalg.det(new_arr)\n",
    "        interemediate_dets.append(i_det)\n",
    "        roots.append(i_det/base_det)\n",
    "    return interemediate_dets,roots\n",
    "        \n",
    "    "
   ]
  },
  {
   "cell_type": "code",
   "execution_count": 34,
   "id": "c3acf9e3",
   "metadata": {},
   "outputs": [],
   "source": [
    "roots,int_dets = cramers_rule(sz,mat,rhs)"
   ]
  },
  {
   "cell_type": "code",
   "execution_count": 35,
   "id": "bdbf370e",
   "metadata": {},
   "outputs": [
    {
     "data": {
      "text/plain": [
       "[215.0000000000001, -53.00000000000003, -114.00000000000003]"
      ]
     },
     "execution_count": 35,
     "metadata": {},
     "output_type": "execute_result"
    }
   ],
   "source": [
    "roots"
   ]
  },
  {
   "cell_type": "code",
   "execution_count": 28,
   "id": "2630e3be",
   "metadata": {},
   "outputs": [
    {
     "data": {
      "text/plain": [
       "array([ 205.,   82., -246.])"
      ]
     },
     "execution_count": 28,
     "metadata": {},
     "output_type": "execute_result"
    }
   ],
   "source": [
    "np.array(mat).reshape((3,3))@np.array(roots)"
   ]
  },
  {
   "cell_type": "code",
   "execution_count": 4,
   "id": "04af25ed",
   "metadata": {},
   "outputs": [
    {
     "data": {
      "text/plain": [
       "array([[0.58, 0.58],\n",
       "       [0.58, 0.  ],\n",
       "       [0.  , 0.  ],\n",
       "       [0.  , 0.  ],\n",
       "       [0.71, 0.71]])"
      ]
     },
     "execution_count": 4,
     "metadata": {},
     "output_type": "execute_result"
    }
   ],
   "source": [
    "np.array([[0.58,0.58,0.58,0,0],[0,0,0,0.71,0.71]]).reshape(5,2)"
   ]
  },
  {
   "cell_type": "code",
   "execution_count": 6,
   "id": "efc79ec7",
   "metadata": {},
   "outputs": [],
   "source": [
    "a = [0.58,0.58,0.58,0,0]\n",
    "b = [0,0,0,0.71,0.71]\n",
    "out = list(zip(a,b))"
   ]
  },
  {
   "cell_type": "code",
   "execution_count": 9,
   "id": "4fcb3c52",
   "metadata": {},
   "outputs": [
    {
     "data": {
      "text/plain": [
       "array([[5.22, 2.13]])"
      ]
     },
     "execution_count": 9,
     "metadata": {},
     "output_type": "execute_result"
    }
   ],
   "source": [
    "np.array([0,4,5,3,0]).reshape(1,5)@np.array(out)"
   ]
  },
  {
   "cell_type": "code",
   "execution_count": null,
   "id": "88d36f27",
   "metadata": {},
   "outputs": [],
   "source": [
    "np.array([0,4,5,3,0]).reshape(1,5)@np.array([[0.58,0.58,0.58,0,0],[0,0,0,0.71,0.71]])"
   ]
  }
 ],
 "metadata": {
  "kernelspec": {
   "display_name": "Python 3 (ipykernel)",
   "language": "python",
   "name": "python3"
  },
  "language_info": {
   "codemirror_mode": {
    "name": "ipython",
    "version": 3
   },
   "file_extension": ".py",
   "mimetype": "text/x-python",
   "name": "python",
   "nbconvert_exporter": "python",
   "pygments_lexer": "ipython3",
   "version": "3.9.9"
  }
 },
 "nbformat": 4,
 "nbformat_minor": 5
}
