{
  "nbformat": 4,
  "nbformat_minor": 0,
  "metadata": {
    "colab": {
      "name": "auto-grad.ipynb",
      "provenance": [],
      "authorship_tag": "ABX9TyM5V9+FzqfW0gkOBMWOfFls",
      "include_colab_link": true
    },
    "kernelspec": {
      "name": "python3",
      "display_name": "Python 3"
    },
    "language_info": {
      "name": "python"
    }
  },
  "cells": [
    {
      "cell_type": "markdown",
      "metadata": {
        "id": "view-in-github",
        "colab_type": "text"
      },
      "source": [
        "<a href=\"https://colab.research.google.com/github/vin136/cs323/blob/main/auto_grad.ipynb\" target=\"_parent\"><img src=\"https://colab.research.google.com/assets/colab-badge.svg\" alt=\"Open In Colab\"/></a>"
      ]
    },
    {
      "cell_type": "code",
      "execution_count": 1,
      "metadata": {
        "id": "bo42rkQLodfw"
      },
      "outputs": [],
      "source": [
        "import torch\n",
        "\n",
        "import matplotlib.pyplot as plt\n",
        "import matplotlib.ticker as ticker\n",
        "import math"
      ]
    },
    {
      "cell_type": "code",
      "source": [
        "a = torch.linspace(0., 2. * math.pi, steps=25, requires_grad=True)"
      ],
      "metadata": {
        "id": "JRNhlPpIojMa"
      },
      "execution_count": 2,
      "outputs": []
    },
    {
      "cell_type": "code",
      "source": [
        "b = torch.sin(a)"
      ],
      "metadata": {
        "id": "RMxX5CJ_omA3"
      },
      "execution_count": 3,
      "outputs": []
    },
    {
      "cell_type": "code",
      "source": [
        "a.shape"
      ],
      "metadata": {
        "colab": {
          "base_uri": "https://localhost:8080/"
        },
        "id": "chjTQ2I2ooXR",
        "outputId": "4bbd3c89-5fb2-4f4f-b540-0368600e7a58"
      },
      "execution_count": 5,
      "outputs": [
        {
          "output_type": "execute_result",
          "data": {
            "text/plain": [
              "torch.Size([25])"
            ]
          },
          "metadata": {},
          "execution_count": 5
        }
      ]
    },
    {
      "cell_type": "code",
      "source": [
        "b.shape"
      ],
      "metadata": {
        "colab": {
          "base_uri": "https://localhost:8080/"
        },
        "id": "wAx1Ft9NoseP",
        "outputId": "b27bdebf-9d8c-4e23-f9cd-b1f397de3cc7"
      },
      "execution_count": 6,
      "outputs": [
        {
          "output_type": "execute_result",
          "data": {
            "text/plain": [
              "torch.Size([25])"
            ]
          },
          "metadata": {},
          "execution_count": 6
        }
      ]
    },
    {
      "cell_type": "code",
      "source": [
        "plt.plot(a.detach(), b.detach())"
      ],
      "metadata": {
        "colab": {
          "base_uri": "https://localhost:8080/",
          "height": 283
        },
        "id": "QJanaX7dotkm",
        "outputId": "c60fe008-1aa1-4d80-da8c-ed69c600ba69"
      },
      "execution_count": 7,
      "outputs": [
        {
          "output_type": "execute_result",
          "data": {
            "text/plain": [
              "[<matplotlib.lines.Line2D at 0x7f1f1916c110>]"
            ]
          },
          "metadata": {},
          "execution_count": 7
        },
        {
          "output_type": "display_data",
          "data": {
            "text/plain": [
              "<Figure size 432x288 with 1 Axes>"
            ],
            "image/png": "[encoded data removed]"
          },
          "metadata": {
            "needs_background": "light"
          }
        }
      ]
    },
    {
      "cell_type": "code",
      "source": [
        "c = 2*b"
      ],
      "metadata": {
        "id": "vtyKGAVxoqwx"
      },
      "execution_count": 8,
      "outputs": []
    },
    {
      "cell_type": "code",
      "source": [
        "d = c+1"
      ],
      "metadata": {
        "id": "cFP6MuKho1WS"
      },
      "execution_count": 9,
      "outputs": []
    },
    {
      "cell_type": "code",
      "source": [
        "out = d.sum()"
      ],
      "metadata": {
        "id": "oqYhiGdTo4Zl"
      },
      "execution_count": 10,
      "outputs": []
    },
    {
      "cell_type": "code",
      "source": [
        "out.backward()"
      ],
      "metadata": {
        "id": "B6g67WaBo7I5"
      },
      "execution_count": 11,
      "outputs": []
    },
    {
      "cell_type": "code",
      "source": [
        "a.grad"
      ],
      "metadata": {
        "colab": {
          "base_uri": "https://localhost:8080/"
        },
        "id": "BH_ZekmQpHFU",
        "outputId": "bc383034-288a-4b16-850f-c9024c966a04"
      },
      "execution_count": 12,
      "outputs": [
        {
          "output_type": "execute_result",
          "data": {
            "text/plain": [
              "tensor([ 2.0000e+00,  1.9319e+00,  1.7321e+00,  1.4142e+00,  1.0000e+00,\n",
              "         5.1764e-01, -8.7423e-08, -5.1764e-01, -1.0000e+00, -1.4142e+00,\n",
              "        -1.7321e+00, -1.9319e+00, -2.0000e+00, -1.9319e+00, -1.7321e+00,\n",
              "        -1.4142e+00, -1.0000e+00, -5.1764e-01,  2.3850e-08,  5.1764e-01,\n",
              "         1.0000e+00,  1.4142e+00,  1.7321e+00,  1.9319e+00,  2.0000e+00])"
            ]
          },
          "metadata": {},
          "execution_count": 12
        }
      ]
    },
    {
      "cell_type": "code",
      "source": [
        "plt.plot(a.detach(), a.grad.detach())"
      ],
      "metadata": {
        "colab": {
          "base_uri": "https://localhost:8080/",
          "height": 283
        },
        "id": "hK1XuY7fpH7o",
        "outputId": "e97da5a7-bad3-4ed7-ffee-48ff8b77f1b5"
      },
      "execution_count": 13,
      "outputs": [
        {
          "output_type": "execute_result",
          "data": {
            "text/plain": [
              "[<matplotlib.lines.Line2D at 0x7f1f18bad710>]"
            ]
          },
          "metadata": {},
          "execution_count": 13
        },
        {
          "output_type": "display_data",
          "data": {
            "text/plain": [
              "<Figure size 432x288 with 1 Axes>"
            ],
            "image/png": "[encoded data removed]"
          },
          "metadata": {
            "needs_background": "light"
          }
        }
      ]
    },
    {
      "cell_type": "code",
      "source": [
        "## Basics\n",
        "\n",
        "\n",
        "a = torch.tensor(4.0,requires_grad=True)"
      ],
      "metadata": {
        "id": "w-3Cu86tpPc4"
      },
      "execution_count": 18,
      "outputs": []
    },
    {
      "cell_type": "code",
      "source": [
        "a"
      ],
      "metadata": {
        "colab": {
          "base_uri": "https://localhost:8080/"
        },
        "id": "_Kqjd0IUpi8G",
        "outputId": "be773ed4-d713-4dc5-a1c4-f0bcfbd2b7de"
      },
      "execution_count": 19,
      "outputs": [
        {
          "output_type": "execute_result",
          "data": {
            "text/plain": [
              "tensor(4., requires_grad=True)"
            ]
          },
          "metadata": {},
          "execution_count": 19
        }
      ]
    },
    {
      "cell_type": "code",
      "source": [
        "out = a**2+ 10.0"
      ],
      "metadata": {
        "id": "R14re2MxpeY4"
      },
      "execution_count": 21,
      "outputs": []
    },
    {
      "cell_type": "code",
      "source": [
        "out"
      ],
      "metadata": {
        "colab": {
          "base_uri": "https://localhost:8080/"
        },
        "id": "_vvcjSZUpxyx",
        "outputId": "8b37fde9-f546-4475-972e-9233fbf5ae06"
      },
      "execution_count": 22,
      "outputs": [
        {
          "output_type": "execute_result",
          "data": {
            "text/plain": [
              "tensor(26., grad_fn=<AddBackward0>)"
            ]
          },
          "metadata": {},
          "execution_count": 22
        }
      ]
    },
    {
      "cell_type": "code",
      "source": [
        "out.backward()"
      ],
      "metadata": {
        "id": "WUeJ9qV9ptXh"
      },
      "execution_count": 23,
      "outputs": []
    },
    {
      "cell_type": "code",
      "source": [
        "a"
      ],
      "metadata": {
        "colab": {
          "base_uri": "https://localhost:8080/"
        },
        "id": "MfKlPC4Pp2WT",
        "outputId": "057a140c-809a-46e5-f66c-faa3ac3ff45e"
      },
      "execution_count": 24,
      "outputs": [
        {
          "output_type": "execute_result",
          "data": {
            "text/plain": [
              "tensor(4., requires_grad=True)"
            ]
          },
          "metadata": {},
          "execution_count": 24
        }
      ]
    },
    {
      "cell_type": "code",
      "source": [
        "a.grad.numpy()"
      ],
      "metadata": {
        "colab": {
          "base_uri": "https://localhost:8080/"
        },
        "id": "cfL5KBqip5Yq",
        "outputId": "afdceb86-0fe7-4ae5-d74c-d31574eb5dba"
      },
      "execution_count": 26,
      "outputs": [
        {
          "output_type": "execute_result",
          "data": {
            "text/plain": [
              "array(8., dtype=float32)"
            ]
          },
          "metadata": {},
          "execution_count": 26
        }
      ]
    },
    {
      "cell_type": "code",
      "source": [
        "def myfunc(a):\n",
        "  #a**2\n",
        "  out = a**2\n",
        "  scal_out = out.sum()\n",
        "  scal_out.backward()\n",
        "  return out"
      ],
      "metadata": {
        "id": "I3sib-VKpevW"
      },
      "execution_count": 34,
      "outputs": []
    },
    {
      "cell_type": "code",
      "source": [
        ""
      ],
      "metadata": {
        "id": "8zqbbEClqmwM"
      },
      "execution_count": null,
      "outputs": []
    },
    {
      "cell_type": "code",
      "source": [
        "a = torch.linspace(0,10,100,requires_grad=True)\n",
        "a"
      ],
      "metadata": {
        "colab": {
          "base_uri": "https://localhost:8080/"
        },
        "id": "Oi8CqwlNqJj7",
        "outputId": "06b274de-2772-4fa6-a2a9-9ebdb24fd2c2"
      },
      "execution_count": 35,
      "outputs": [
        {
          "output_type": "execute_result",
          "data": {
            "text/plain": [
              "tensor([ 0.0000,  0.1010,  0.2020,  0.3030,  0.4040,  0.5051,  0.6061,  0.7071,\n",
              "         0.8081,  0.9091,  1.0101,  1.1111,  1.2121,  1.3131,  1.4141,  1.5152,\n",
              "         1.6162,  1.7172,  1.8182,  1.9192,  2.0202,  2.1212,  2.2222,  2.3232,\n",
              "         2.4242,  2.5253,  2.6263,  2.7273,  2.8283,  2.9293,  3.0303,  3.1313,\n",
              "         3.2323,  3.3333,  3.4343,  3.5354,  3.6364,  3.7374,  3.8384,  3.9394,\n",
              "         4.0404,  4.1414,  4.2424,  4.3434,  4.4444,  4.5455,  4.6465,  4.7475,\n",
              "         4.8485,  4.9495,  5.0505,  5.1515,  5.2525,  5.3535,  5.4545,  5.5556,\n",
              "         5.6566,  5.7576,  5.8586,  5.9596,  6.0606,  6.1616,  6.2626,  6.3636,\n",
              "         6.4646,  6.5657,  6.6667,  6.7677,  6.8687,  6.9697,  7.0707,  7.1717,\n",
              "         7.2727,  7.3737,  7.4747,  7.5758,  7.6768,  7.7778,  7.8788,  7.9798,\n",
              "         8.0808,  8.1818,  8.2828,  8.3838,  8.4848,  8.5859,  8.6869,  8.7879,\n",
              "         8.8889,  8.9899,  9.0909,  9.1919,  9.2929,  9.3939,  9.4950,  9.5960,\n",
              "         9.6970,  9.7980,  9.8990, 10.0000], requires_grad=True)"
            ]
          },
          "metadata": {},
          "execution_count": 35
        }
      ]
    },
    {
      "cell_type": "code",
      "source": [
        "out = myfunc(a)"
      ],
      "metadata": {
        "id": "d6j-G3YzqOZ_"
      },
      "execution_count": 36,
      "outputs": []
    },
    {
      "cell_type": "code",
      "source": [
        "out"
      ],
      "metadata": {
        "colab": {
          "base_uri": "https://localhost:8080/"
        },
        "id": "wCizA5SwqcYg",
        "outputId": "b11c4cd8-cbe4-4e69-a7ab-2ecd85e78741"
      },
      "execution_count": 38,
      "outputs": [
        {
          "output_type": "execute_result",
          "data": {
            "text/plain": [
              "tensor([0.0000e+00, 1.0203e-02, 4.0812e-02, 9.1827e-02, 1.6325e-01, 2.5508e-01,\n",
              "        3.6731e-01, 4.9995e-01, 6.5299e-01, 8.2645e-01, 1.0203e+00, 1.2346e+00,\n",
              "        1.4692e+00, 1.7243e+00, 1.9998e+00, 2.2957e+00, 2.6120e+00, 2.9487e+00,\n",
              "        3.3058e+00, 3.6833e+00, 4.0812e+00, 4.4995e+00, 4.9383e+00, 5.3974e+00,\n",
              "        5.8770e+00, 6.3769e+00, 6.8973e+00, 7.4380e+00, 7.9992e+00, 8.5808e+00,\n",
              "        9.1827e+00, 9.8051e+00, 1.0448e+01, 1.1111e+01, 1.1795e+01, 1.2499e+01,\n",
              "        1.3223e+01, 1.3968e+01, 1.4733e+01, 1.5519e+01, 1.6325e+01, 1.7151e+01,\n",
              "        1.7998e+01, 1.8865e+01, 1.9753e+01, 2.0661e+01, 2.1590e+01, 2.2539e+01,\n",
              "        2.3508e+01, 2.4498e+01, 2.5508e+01, 2.6538e+01, 2.7589e+01, 2.8660e+01,\n",
              "        2.9752e+01, 3.0864e+01, 3.1997e+01, 3.3150e+01, 3.4323e+01, 3.5517e+01,\n",
              "        3.6731e+01, 3.7966e+01, 3.9220e+01, 4.0496e+01, 4.1792e+01, 4.3108e+01,\n",
              "        4.4444e+01, 4.5801e+01, 4.7179e+01, 4.8577e+01, 4.9995e+01, 5.1434e+01,\n",
              "        5.2893e+01, 5.4372e+01, 5.5872e+01, 5.7392e+01, 5.8933e+01, 6.0494e+01,\n",
              "        6.2075e+01, 6.3677e+01, 6.5299e+01, 6.6942e+01, 6.8605e+01, 7.0289e+01,\n",
              "        7.1993e+01, 7.3717e+01, 7.5462e+01, 7.7227e+01, 7.9012e+01, 8.0818e+01,\n",
              "        8.2645e+01, 8.4491e+01, 8.6359e+01, 8.8246e+01, 9.0154e+01, 9.2082e+01,\n",
              "        9.4031e+01, 9.6000e+01, 9.7990e+01, 1.0000e+02],\n",
              "       grad_fn=<PowBackward0>)"
            ]
          },
          "metadata": {},
          "execution_count": 38
        }
      ]
    },
    {
      "cell_type": "code",
      "source": [
        "a.grad.numpy()"
      ],
      "metadata": {
        "colab": {
          "base_uri": "https://localhost:8080/"
        },
        "id": "0UWgyexVqYRL",
        "outputId": "d6c5b8dc-2c3f-4e5d-80eb-8267103ac704"
      },
      "execution_count": 43,
      "outputs": [
        {
          "output_type": "execute_result",
          "data": {
            "text/plain": [
              "array([ 0.       ,  0.2020202,  0.4040404,  0.6060606,  0.8080808,\n",
              "        1.010101 ,  1.2121212,  1.4141414,  1.6161616,  1.8181818,\n",
              "        2.020202 ,  2.2222223,  2.4242425,  2.6262627,  2.8282828,\n",
              "        3.030303 ,  3.2323232,  3.4343433,  3.6363635,  3.8383837,\n",
              "        4.040404 ,  4.242424 ,  4.4444447,  4.6464643,  4.848485 ,\n",
              "        5.050505 ,  5.2525253,  5.4545455,  5.6565657,  5.858586 ,\n",
              "        6.060606 ,  6.2626266,  6.4646463,  6.6666665,  6.8686867,\n",
              "        7.070707 ,  7.272727 ,  7.474747 ,  7.6767673,  7.878788 ,\n",
              "        8.080808 ,  8.282828 ,  8.484848 ,  8.686869 ,  8.888888 ,\n",
              "        9.090909 ,  9.292929 ,  9.494949 ,  9.69697  ,  9.898991 ,\n",
              "       10.10101  , 10.303031 , 10.505051 , 10.707071 , 10.909091 ,\n",
              "       11.111112 , 11.313131 , 11.515152 , 11.717172 , 11.919192 ,\n",
              "       12.121212 , 12.323233 , 12.525252 , 12.727273 , 12.929293 ,\n",
              "       13.131313 , 13.333333 , 13.535354 , 13.737373 , 13.939394 ,\n",
              "       14.141414 , 14.343434 , 14.545455 , 14.747476 , 14.949495 ,\n",
              "       15.151516 , 15.353536 , 15.555556 , 15.757576 , 15.959597 ,\n",
              "       16.161615 , 16.363636 , 16.565657 , 16.767675 , 16.969696 ,\n",
              "       17.171717 , 17.373737 , 17.575756 , 17.777779 , 17.9798   ,\n",
              "       18.18182  , 18.383839 , 18.58586  , 18.78788  , 18.9899   ,\n",
              "       19.19192  , 19.39394  , 19.595959 , 19.79798  , 20.       ],\n",
              "      dtype=float32)"
            ]
          },
          "metadata": {},
          "execution_count": 43
        }
      ]
    },
    {
      "cell_type": "code",
      "source": [
        "import numpy as np\n",
        "\n",
        "2*np.linspace(0,10,100) - "
      ],
      "metadata": {
        "colab": {
          "base_uri": "https://localhost:8080/"
        },
        "id": "tqLCfsOvqrcc",
        "outputId": "106c2f15-13af-411b-9768-33eeceaa5ef4"
      },
      "execution_count": 42,
      "outputs": [
        {
          "output_type": "execute_result",
          "data": {
            "text/plain": [
              "array([ 0.        ,  0.2020202 ,  0.4040404 ,  0.60606061,  0.80808081,\n",
              "        1.01010101,  1.21212121,  1.41414141,  1.61616162,  1.81818182,\n",
              "        2.02020202,  2.22222222,  2.42424242,  2.62626263,  2.82828283,\n",
              "        3.03030303,  3.23232323,  3.43434343,  3.63636364,  3.83838384,\n",
              "        4.04040404,  4.24242424,  4.44444444,  4.64646465,  4.84848485,\n",
              "        5.05050505,  5.25252525,  5.45454545,  5.65656566,  5.85858586,\n",
              "        6.06060606,  6.26262626,  6.46464646,  6.66666667,  6.86868687,\n",
              "        7.07070707,  7.27272727,  7.47474747,  7.67676768,  7.87878788,\n",
              "        8.08080808,  8.28282828,  8.48484848,  8.68686869,  8.88888889,\n",
              "        9.09090909,  9.29292929,  9.49494949,  9.6969697 ,  9.8989899 ,\n",
              "       10.1010101 , 10.3030303 , 10.50505051, 10.70707071, 10.90909091,\n",
              "       11.11111111, 11.31313131, 11.51515152, 11.71717172, 11.91919192,\n",
              "       12.12121212, 12.32323232, 12.52525253, 12.72727273, 12.92929293,\n",
              "       13.13131313, 13.33333333, 13.53535354, 13.73737374, 13.93939394,\n",
              "       14.14141414, 14.34343434, 14.54545455, 14.74747475, 14.94949495,\n",
              "       15.15151515, 15.35353535, 15.55555556, 15.75757576, 15.95959596,\n",
              "       16.16161616, 16.36363636, 16.56565657, 16.76767677, 16.96969697,\n",
              "       17.17171717, 17.37373737, 17.57575758, 17.77777778, 17.97979798,\n",
              "       18.18181818, 18.38383838, 18.58585859, 18.78787879, 18.98989899,\n",
              "       19.19191919, 19.39393939, 19.5959596 , 19.7979798 , 20.        ])"
            ]
          },
          "metadata": {},
          "execution_count": 42
        }
      ]
    },
    {
      "cell_type": "code",
      "source": [
        ""
      ],
      "metadata": {
        "id": "MFOhk-aaqyhL"
      },
      "execution_count": null,
      "outputs": []
    },
    {
      "cell_type": "code",
      "source": [
        ""
      ],
      "metadata": {
        "id": "utczwyp5qvTY"
      },
      "execution_count": null,
      "outputs": []
    }
  ]
}