{
 "cells": [
  {
   "cell_type": "markdown",
   "id": "da403494",
   "metadata": {},
   "source": [
    "## Example-1"
   ]
  },
  {
   "cell_type": "code",
   "execution_count": 26,
   "id": "0d2aae10",
   "metadata": {},
   "outputs": [],
   "source": [
    "def plot(f,st=-10,end=10,count=100):\n",
    "    import matplotlib.pyplot as plt\n",
    "    x = np.linspace(st,end,count)\n",
    "    y = [f(i) for i in x]\n",
    "    plt.plot(x,y)\n",
    "    "
   ]
  },
  {
   "cell_type": "code",
   "execution_count": 27,
   "id": "a400fa1d",
   "metadata": {},
   "outputs": [],
   "source": [
    "#21+41x2−xsinx−21cos2x\n",
    "\n",
    "func = lambda x: 0.5+(x**2)/4-(x*math.sin(x))-0.5*math.cos(2*x)\n",
    "grad_func = lambda x: (x/2)-(math.sin(x)+x*math.cos(x))+math.sin(2*x)"
   ]
  },
  {
   "cell_type": "code",
   "execution_count": 28,
   "id": "bc6f87e4",
   "metadata": {},
   "outputs": [
    {
     "data": {
      "image/png": "[encoded data removed]",
      "text/plain": [
       "<Figure size 432x288 with 1 Axes>"
      ]
     },
     "metadata": {
      "needs_background": "light"
     },
     "output_type": "display_data"
    }
   ],
   "source": [
    "plot(func,-10,10*math.pi,1000)"
   ]
  },
  {
   "cell_type": "code",
   "execution_count": 29,
   "id": "5a3adc82",
   "metadata": {},
   "outputs": [],
   "source": [
    "def newton(func,grad,start=math.pi/2,tolerance=10**(-5),max_iter=30,debug=True,domain=None):\n",
    "    cnt = 0\n",
    "    halt=False\n",
    "    estimates = []\n",
    "    while cnt<max_iter and not halt:\n",
    "        #try:\n",
    "        next_x = start - (func(start)/grad(start))\n",
    "        #except:\n",
    "            #print(start)\n",
    "            #import pdb;pdb.set_trace()\n",
    "        estimates.append(next_x)\n",
    "        if abs(start-next_x)<= tolerance:\n",
    "            halt = True\n",
    "        cnt += 1\n",
    "        if debug:\n",
    "            print(f\"iter:{cnt} value:{next_x}\")\n",
    "        \n",
    "        if domain:\n",
    "            if not domain[0]<= next_x <= domain[-1]:\n",
    "                next_x = np.clip(next_x,*domain)\n",
    "        start = next_x\n",
    "    if cnt == max_iter:print(f\"Process Terminated with failure\")\n",
    "    return estimates\n",
    "        \n",
    "    \n",
    "    "
   ]
  },
  {
   "cell_type": "code",
   "execution_count": 50,
   "id": "15bb3beb",
   "metadata": {},
   "outputs": [
    {
     "name": "stdout",
     "output_type": "stream",
     "text": [
      "iter:1 value:1.7853981633974485\n",
      "iter:2 value:1.844561629601785\n",
      "iter:3 value:1.8708344176888603\n",
      "iter:4 value:1.8833464269272087\n",
      "iter:5 value:1.8894637641822818\n",
      "iter:6 value:1.8924896245342566\n",
      "iter:7 value:1.8939945683559554\n",
      "iter:8 value:1.8947450696912427\n",
      "iter:9 value:1.8951198309096426\n",
      "iter:10 value:1.8953070895523099\n",
      "iter:11 value:1.895400688430785\n",
      "iter:12 value:1.8954474802670205\n",
      "iter:13 value:1.8954708742847959\n",
      "iter:14 value:1.895482570825859\n",
      "iter:15 value:1.8954884189618357\n"
     ]
    },
    {
     "data": {
      "text/plain": [
       "[1.7853981633974485,\n",
       " 1.844561629601785,\n",
       " 1.8708344176888603,\n",
       " 1.8833464269272087,\n",
       " 1.8894637641822818,\n",
       " 1.8924896245342566,\n",
       " 1.8939945683559554,\n",
       " 1.8947450696912427,\n",
       " 1.8951198309096426,\n",
       " 1.8953070895523099,\n",
       " 1.895400688430785,\n",
       " 1.8954474802670205,\n",
       " 1.8954708742847959,\n",
       " 1.895482570825859,\n",
       " 1.8954884189618357]"
      ]
     },
     "execution_count": 50,
     "metadata": {},
     "output_type": "execute_result"
    }
   ],
   "source": [
    "newton(func,grad_func,start=math.pi/2)"
   ]
  },
  {
   "cell_type": "code",
   "execution_count": 51,
   "id": "91875742",
   "metadata": {},
   "outputs": [
    {
     "name": "stdout",
     "output_type": "stream",
     "text": [
      "iter:1 value:13.08996938995747\n",
      "iter:2 value:21.34757204878654\n",
      "iter:3 value:17.472927291423964\n",
      "iter:4 value:1.648679924132674\n",
      "iter:5 value:1.798063088335892\n",
      "iter:6 value:1.8499400571231617\n",
      "iter:7 value:1.8733573133421744\n",
      "iter:8 value:1.8845720021673236\n",
      "iter:9 value:1.890068173171577\n",
      "iter:10 value:1.892789801826621\n",
      "iter:11 value:1.894144158281179\n",
      "iter:12 value:1.8948197409624163\n",
      "iter:13 value:1.8951571357446937\n",
      "iter:14 value:1.8953257342845884\n",
      "iter:15 value:1.895410008877921\n",
      "iter:16 value:1.8954521400095838\n",
      "iter:17 value:1.8954732040312832\n",
      "iter:18 value:1.8954837356647702\n",
      "iter:19 value:1.8954890013884576\n"
     ]
    },
    {
     "data": {
      "text/plain": [
       "[13.08996938995747,\n",
       " 21.34757204878654,\n",
       " 17.472927291423964,\n",
       " 1.648679924132674,\n",
       " 1.798063088335892,\n",
       " 1.8499400571231617,\n",
       " 1.8733573133421744,\n",
       " 1.8845720021673236,\n",
       " 1.890068173171577,\n",
       " 1.892789801826621,\n",
       " 1.894144158281179,\n",
       " 1.8948197409624163,\n",
       " 1.8951571357446937,\n",
       " 1.8953257342845884,\n",
       " 1.895410008877921,\n",
       " 1.8954521400095838,\n",
       " 1.8954732040312832,\n",
       " 1.8954837356647702,\n",
       " 1.8954890013884576]"
      ]
     },
     "execution_count": 51,
     "metadata": {},
     "output_type": "execute_result"
    }
   ],
   "source": [
    "newton(func,grad_func,start=5*math.pi)"
   ]
  },
  {
   "cell_type": "code",
   "execution_count": 52,
   "id": "4129d73c",
   "metadata": {},
   "outputs": [
    {
     "name": "stdout",
     "output_type": "stream",
     "text": [
      "iter:1 value:47.12388980384689\n",
      "iter:2 value:39.26990816987241\n",
      "iter:3 value:20.634954084935945\n",
      "iter:4 value:14.08449084614741\n",
      "iter:5 value:7.329538388351527\n",
      "iter:6 value:1921.540399900306\n",
      "iter:7 value:-6200.960709997131\n",
      "iter:8 value:-10555.496833732306\n",
      "iter:9 value:-16196.872125519063\n",
      "iter:10 value:17919.481081238817\n",
      "iter:11 value:27124.65653074757\n",
      "iter:12 value:40979.88092566165\n",
      "iter:13 value:162007.70234150277\n",
      "iter:14 value:119958.13808118773\n",
      "iter:15 value:193727.99653097222\n",
      "iter:16 value:68092.67757484154\n",
      "iter:17 value:44633.97173657742\n",
      "iter:18 value:28792.994659050895\n",
      "iter:19 value:23848.800216625383\n",
      "iter:20 value:18250.015523239195\n",
      "iter:21 value:14933.476705442088\n",
      "iter:22 value:8538.49650092208\n",
      "iter:23 value:13406.11934004294\n",
      "iter:24 value:10322.37302311343\n",
      "iter:25 value:31605.70178643115\n",
      "iter:26 value:-5489.845191672168\n",
      "iter:27 value:-3154.312511388071\n",
      "iter:28 value:-4769.287335289526\n",
      "iter:29 value:-7481.926542727553\n",
      "iter:30 value:-757.1751327310049\n",
      "Process Terminated with failure\n"
     ]
    },
    {
     "data": {
      "text/plain": [
       "[47.12388980384689,\n",
       " 39.26990816987241,\n",
       " 20.634954084935945,\n",
       " 14.08449084614741,\n",
       " 7.329538388351527,\n",
       " 1921.540399900306,\n",
       " -6200.960709997131,\n",
       " -10555.496833732306,\n",
       " -16196.872125519063,\n",
       " 17919.481081238817,\n",
       " 27124.65653074757,\n",
       " 40979.88092566165,\n",
       " 162007.70234150277,\n",
       " 119958.13808118773,\n",
       " 193727.99653097222,\n",
       " 68092.67757484154,\n",
       " 44633.97173657742,\n",
       " 28792.994659050895,\n",
       " 23848.800216625383,\n",
       " 18250.015523239195,\n",
       " 14933.476705442088,\n",
       " 8538.49650092208,\n",
       " 13406.11934004294,\n",
       " 10322.37302311343,\n",
       " 31605.70178643115,\n",
       " -5489.845191672168,\n",
       " -3154.312511388071,\n",
       " -4769.287335289526,\n",
       " -7481.926542727553,\n",
       " -757.1751327310049]"
      ]
     },
     "execution_count": 52,
     "metadata": {},
     "output_type": "execute_result"
    }
   ],
   "source": [
    "newton(func,grad_func,start=10*math.pi)\n"
   ]
  },
  {
   "cell_type": "markdown",
   "id": "431b2dae",
   "metadata": {},
   "source": [
    "## Example-2"
   ]
  },
  {
   "cell_type": "markdown",
   "id": "a66f452f",
   "metadata": {},
   "source": [
    "p0 =−100 b. p0 =100.0 "
   ]
  },
  {
   "cell_type": "code",
   "execution_count": 53,
   "id": "dec6782b",
   "metadata": {},
   "outputs": [],
   "source": [
    "func1 = lambda x: x**2 - 10*math.cos(x)\n",
    "grad1 = lambda x: 2*x + 10*math.sin(x)"
   ]
  },
  {
   "cell_type": "code",
   "execution_count": 54,
   "id": "e711a1c4",
   "metadata": {},
   "outputs": [
    {
     "name": "stdout",
     "output_type": "stream",
     "text": [
      "iter:1 value:-48.74543849889916\n",
      "iter:2 value:-21.596769093971908\n",
      "iter:3 value:-11.484219569105008\n",
      "iter:4 value:-2.488158340945553\n",
      "iter:5 value:-1.2099747956554148\n",
      "iter:6 value:-1.3854492522796145\n",
      "iter:7 value:-1.3793702695076215\n",
      "iter:8 value:-1.3793645942270283\n"
     ]
    },
    {
     "data": {
      "text/plain": [
       "[-48.74543849889916,\n",
       " -21.596769093971908,\n",
       " -11.484219569105008,\n",
       " -2.488158340945553,\n",
       " -1.2099747956554148,\n",
       " -1.3854492522796145,\n",
       " -1.3793702695076215,\n",
       " -1.3793645942270283]"
      ]
     },
     "execution_count": 54,
     "metadata": {},
     "output_type": "execute_result"
    }
   ],
   "source": [
    "newton(func1,grad1,start=-100.0,tolerance=10**-4)"
   ]
  },
  {
   "cell_type": "code",
   "execution_count": 56,
   "id": "9ebe0e9c",
   "metadata": {},
   "outputs": [
    {
     "name": "stdout",
     "output_type": "stream",
     "text": [
      "iter:1 value:48.74543849889916\n",
      "iter:2 value:21.596769093971908\n",
      "iter:3 value:11.484219569105008\n",
      "iter:4 value:2.488158340945553\n",
      "iter:5 value:1.2099747956554148\n",
      "iter:6 value:1.3854492522796145\n",
      "iter:7 value:1.3793702695076215\n",
      "iter:8 value:1.3793645942270283\n"
     ]
    },
    {
     "data": {
      "text/plain": [
       "[48.74543849889916,\n",
       " 21.596769093971908,\n",
       " 11.484219569105008,\n",
       " 2.488158340945553,\n",
       " 1.2099747956554148,\n",
       " 1.3854492522796145,\n",
       " 1.3793702695076215,\n",
       " 1.3793645942270283]"
      ]
     },
     "execution_count": 56,
     "metadata": {},
     "output_type": "execute_result"
    }
   ],
   "source": [
    "newton(func1,grad1,start=100.0,tolerance=10**-4)"
   ]
  },
  {
   "cell_type": "markdown",
   "id": "554c7100",
   "metadata": {},
   "source": [
    "Above function has two solutions\n",
    "#-  1.3793645942270283 and   -1.3793645942270283"
   ]
  },
  {
   "cell_type": "code",
   "execution_count": 6,
   "id": "eb754fb4",
   "metadata": {},
   "outputs": [],
   "source": [
    "tan = lambda x: math.sin(x)/math.cos(x)\n",
    "sec = lambda x: 1/math.cos(x)\n",
    "func2 = lambda x: tan(math.pi*x)-6 \n",
    "grad2 = lambda x: (math.pi)*(sec(math.pi*x))**2"
   ]
  },
  {
   "cell_type": "code",
   "execution_count": 67,
   "id": "ee0e484e",
   "metadata": {},
   "outputs": [
    {
     "name": "stdout",
     "output_type": "stream",
     "text": [
      "iter:1 value:1.909859317102744\n",
      "iter:2 value:3.75600838056277\n",
      "iter:3 value:4.906021303045878\n",
      "iter:4 value:6.742794603820937\n",
      "iter:5 value:7.813498518757193\n",
      "iter:6 value:9.28604676110961\n",
      "iter:7 value:9.871449932848657\n",
      "iter:8 value:11.601410056742614\n",
      "iter:9 value:11.883474513242517\n",
      "iter:10 value:13.655012218324751\n",
      "iter:11 value:14.204893252662764\n",
      "iter:12 value:15.27404911467277\n",
      "iter:13 value:15.927891139294559\n",
      "iter:14 value:17.811070866927384\n",
      "iter:15 value:19.27108054247041\n",
      "iter:16 value:19.942135561542234\n",
      "iter:17 value:21.846171241508415\n",
      "iter:18 value:23.47462073589924\n",
      "iter:19 value:23.461464320030064\n",
      "iter:20 value:23.45115914645392\n",
      "iter:21 value:23.44769378716261\n",
      "iter:22 value:23.447432839725938\n",
      "iter:23 value:23.44743154332043\n"
     ]
    },
    {
     "data": {
      "text/plain": [
       "[1.909859317102744,\n",
       " 3.75600838056277,\n",
       " 4.906021303045878,\n",
       " 6.742794603820937,\n",
       " 7.813498518757193,\n",
       " 9.28604676110961,\n",
       " 9.871449932848657,\n",
       " 11.601410056742614,\n",
       " 11.883474513242517,\n",
       " 13.655012218324751,\n",
       " 14.204893252662764,\n",
       " 15.27404911467277,\n",
       " 15.927891139294559,\n",
       " 17.811070866927384,\n",
       " 19.27108054247041,\n",
       " 19.942135561542234,\n",
       " 21.846171241508415,\n",
       " 23.47462073589924,\n",
       " 23.461464320030064,\n",
       " 23.45115914645392,\n",
       " 23.44769378716261,\n",
       " 23.447432839725938,\n",
       " 23.44743154332043]"
      ]
     },
     "execution_count": 67,
     "metadata": {},
     "output_type": "execute_result"
    }
   ],
   "source": [
    "newton(func2,grad2,start=0.0,tolerance=10**-4)"
   ]
  },
  {
   "cell_type": "code",
   "execution_count": 69,
   "id": "f0b231c0",
   "metadata": {},
   "outputs": [
    {
     "name": "stdout",
     "output_type": "stream",
     "text": [
      "iter:1 value:0.4675825019258912\n",
      "iter:2 value:0.4551291915177739\n",
      "iter:3 value:0.4485512339384831\n",
      "iter:4 value:0.4474551842507058\n",
      "iter:5 value:0.4474315538237576\n"
     ]
    },
    {
     "data": {
      "text/plain": [
       "[0.4675825019258912,\n",
       " 0.4551291915177739,\n",
       " 0.4485512339384831,\n",
       " 0.4474551842507058,\n",
       " 0.4474315538237576]"
      ]
     },
     "execution_count": 69,
     "metadata": {},
     "output_type": "execute_result"
    }
   ],
   "source": [
    "newton(func2,grad2,start=0.48,tolerance=10**-4)"
   ]
  },
  {
   "cell_type": "code",
   "execution_count": 78,
   "id": "b08677bf",
   "metadata": {},
   "outputs": [
    {
     "data": {
      "image/png": "[encoded data removed]",
      "text/plain": [
       "<Figure size 432x288 with 1 Axes>"
      ]
     },
     "metadata": {
      "needs_background": "light"
     },
     "output_type": "display_data"
    }
   ],
   "source": [
    "plot(func2,-10,10,1000)"
   ]
  },
  {
   "cell_type": "code",
   "execution_count": 9,
   "id": "2657292b",
   "metadata": {},
   "outputs": [],
   "source": [
    "def secant(fun,a,b,tolerance=10**(-5),max_iter=30,debug=True):\n",
    "    if not fun(a)*fun(b)<0:\n",
    "        print(f'not good end points')\n",
    "        return\n",
    "    while not abs(a-b)<tolerance:\n",
    "        mid = (a+b)/2\n",
    "        if fun(mid)*fun(b)<0:\n",
    "            a = mid\n",
    "        else:\n",
    "            b = mid\n",
    "            \n",
    "        if debug:\n",
    "            print(f'a:{a},b:{b}')"
   ]
  },
  {
   "cell_type": "markdown",
   "id": "d017f3d3",
   "metadata": {},
   "source": [
    "## Example:3"
   ]
  },
  {
   "cell_type": "code",
   "execution_count": 31,
   "id": "92613a9b",
   "metadata": {},
   "outputs": [],
   "source": [
    "fun3 = lambda x: 4*(x**2)-(math.e)**x-(math.e)**-x\n",
    "grad3 = lambda x: 8*x - (math.e)**x+(math.e)**-x"
   ]
  },
  {
   "cell_type": "code",
   "execution_count": 32,
   "id": "e7b1199b",
   "metadata": {},
   "outputs": [
    {
     "data": {
      "image/png": "[encoded data removed]",
      "text/plain": [
       "<Figure size 432x288 with 1 Axes>"
      ]
     },
     "metadata": {
      "needs_background": "light"
     },
     "output_type": "display_data"
    }
   ],
   "source": [
    "plot(fun3)"
   ]
  },
  {
   "cell_type": "code",
   "execution_count": 35,
   "id": "7431486f",
   "metadata": {},
   "outputs": [
    {
     "name": "stdout",
     "output_type": "stream",
     "text": [
      "iter:1 value:-9.014580931292265\n",
      "iter:2 value:-8.045615815566453\n",
      "iter:3 value:-7.109287266381521\n",
      "iter:4 value:-6.233851650373769\n",
      "iter:5 value:-5.46342800091177\n",
      "iter:6 value:-4.857200183343615\n",
      "iter:7 value:-4.475213649611876\n",
      "iter:8 value:-4.326856732857093\n",
      "iter:9 value:-4.306592777827722\n",
      "iter:10 value:-4.306245374138223\n",
      "iter:11 value:-4.30624527352012\n"
     ]
    },
    {
     "data": {
      "text/plain": [
       "[-9.014580931292265,\n",
       " -8.045615815566453,\n",
       " -7.109287266381521,\n",
       " -6.233851650373769,\n",
       " -5.46342800091177,\n",
       " -4.857200183343615,\n",
       " -4.475213649611876,\n",
       " -4.326856732857093,\n",
       " -4.306592777827722,\n",
       " -4.306245374138223,\n",
       " -4.30624527352012]"
      ]
     },
     "execution_count": 35,
     "metadata": {},
     "output_type": "execute_result"
    }
   ],
   "source": [
    "newton(fun3,grad3,start=-10,tolerance=10**-4)"
   ]
  },
  {
   "cell_type": "code",
   "execution_count": 36,
   "id": "a113b092",
   "metadata": {},
   "outputs": [
    {
     "name": "stdout",
     "output_type": "stream",
     "text": [
      "iter:1 value:9.014580931292265\n",
      "iter:2 value:8.045615815566453\n",
      "iter:3 value:7.109287266381521\n",
      "iter:4 value:6.233851650373769\n",
      "iter:5 value:5.46342800091177\n",
      "iter:6 value:4.857200183343615\n",
      "iter:7 value:4.475213649611876\n",
      "iter:8 value:4.326856732857093\n",
      "iter:9 value:4.306592777827722\n",
      "iter:10 value:4.306245374138223\n",
      "iter:11 value:4.30624527352012\n"
     ]
    },
    {
     "data": {
      "text/plain": [
       "[9.014580931292265,\n",
       " 8.045615815566453,\n",
       " 7.109287266381521,\n",
       " 6.233851650373769,\n",
       " 5.46342800091177,\n",
       " 4.857200183343615,\n",
       " 4.475213649611876,\n",
       " 4.326856732857093,\n",
       " 4.306592777827722,\n",
       " 4.306245374138223,\n",
       " 4.30624527352012]"
      ]
     },
     "execution_count": 36,
     "metadata": {},
     "output_type": "execute_result"
    }
   ],
   "source": [
    "newton(fun3,grad3,start=10,tolerance=10**-4)"
   ]
  },
  {
   "cell_type": "code",
   "execution_count": null,
   "id": "bdf5583f",
   "metadata": {},
   "outputs": [],
   "source": []
  },
  {
   "cell_type": "code",
   "execution_count": null,
   "id": "ae9151e3",
   "metadata": {},
   "outputs": [],
   "source": []
  },
  {
   "cell_type": "markdown",
   "id": "e06d7900",
   "metadata": {},
   "source": [
    "## Toy samples"
   ]
  },
  {
   "cell_type": "code",
   "execution_count": 10,
   "id": "126fa9a4",
   "metadata": {},
   "outputs": [
    {
     "name": "stdout",
     "output_type": "stream",
     "text": [
      "a:1.0,b:2.0\n",
      "a:1.0,b:1.5\n",
      "a:1.25,b:1.5\n",
      "a:1.375,b:1.5\n",
      "a:1.375,b:1.4375\n",
      "a:1.40625,b:1.4375\n",
      "a:1.40625,b:1.421875\n",
      "a:1.4140625,b:1.421875\n",
      "a:1.4140625,b:1.41796875\n",
      "a:1.4140625,b:1.416015625\n",
      "a:1.4140625,b:1.4150390625\n",
      "a:1.4140625,b:1.41455078125\n",
      "a:1.4140625,b:1.414306640625\n",
      "a:1.4141845703125,b:1.414306640625\n",
      "a:1.4141845703125,b:1.41424560546875\n"
     ]
    }
   ],
   "source": [
    "secant(lambda x: x**2-2,a=-0.0,b=2.0,tolerance=10**-4)"
   ]
  },
  {
   "cell_type": "code",
   "execution_count": 13,
   "id": "dab8e2d4",
   "metadata": {},
   "outputs": [
    {
     "data": {
      "image/png": "[encoded data removed]",
      "text/plain": [
       "<Figure size 432x288 with 1 Axes>"
      ]
     },
     "metadata": {
      "needs_background": "light"
     },
     "output_type": "display_data"
    }
   ],
   "source": [
    "plot(lambda x: x**2-2)"
   ]
  },
  {
   "cell_type": "code",
   "execution_count": 15,
   "id": "7fb997d5",
   "metadata": {},
   "outputs": [
    {
     "data": {
      "text/plain": [
       "20.085536923187664"
      ]
     },
     "execution_count": 15,
     "metadata": {},
     "output_type": "execute_result"
    }
   ],
   "source": [
    "math.e**3"
   ]
  },
  {
   "cell_type": "code",
   "execution_count": null,
   "id": "83cb8939",
   "metadata": {},
   "outputs": [],
   "source": []
  }
 ],
 "metadata": {
  "kernelspec": {
   "display_name": "Python 3 (ipykernel)",
   "language": "python",
   "name": "python3"
  },
  "language_info": {
   "codemirror_mode": {
    "name": "ipython",
    "version": 3
   },
   "file_extension": ".py",
   "mimetype": "text/x-python",
   "name": "python",
   "nbconvert_exporter": "python",
   "pygments_lexer": "ipython3",
   "version": "3.9.9"
  }
 },
 "nbformat": 4,
 "nbformat_minor": 5
}
