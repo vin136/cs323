{
 "cells": [
  {
   "cell_type": "code",
   "execution_count": 1,
   "id": "00b2b8a9",
   "metadata": {},
   "outputs": [],
   "source": [
    "def f(x):\n",
    "    if x <= 1/2:\n",
    "        return 2 * x\n",
    "    if x > 1/2:\n",
    "        return 2*x - 1"
   ]
  },
  {
   "cell_type": "code",
   "execution_count": null,
   "id": "5ef9d1ac",
   "metadata": {},
   "outputs": [],
   "source": [
    "f(f(f(f(f(1/10)))))"
   ]
  },
  {
   "cell_type": "code",
   "execution_count": null,
   "id": "01f27c16",
   "metadata": {},
   "outputs": [],
   "source": [
    "x = 1/10\n",
    "for i in range(80):\n",
    "    print(x)\n",
    "    x = f(x)"
   ]
  },
  {
   "cell_type": "markdown",
   "id": "c9780e02",
   "metadata": {},
   "source": [
    "This is weird. Computer is clearly giving me a wrong answer. "
   ]
  },
  {
   "cell_type": "markdown",
   "id": "564b3155",
   "metadata": {},
   "source": [
    "**Problem: math is continuous & infinite, but computers are discrete & finite**\n",
    "\n",
    "Two Limitations of computer representations of numbers:\n",
    "\n",
    "- they can't be arbitrarily large or small\n",
    "- there must be gaps between them\n",
    "\n",
    "The reason we need to care about accuracy, is because computers can't store infinitely accurate numbers. It's possible to create calculations that give very wrong answers (particularly when repeating an operation many times, since each operation could multiply the error)."
   ]
  },
  {
   "cell_type": "markdown",
   "id": "e82a786b",
   "metadata": {},
   "source": [
    "Floats and doubles are not equidistant:\n",
    "\n",
    "<img src=\"images/fltscale-wh.png\" alt=\"floating point\" style=\"width: 100%\"/>\n",
    "\n",
    "Source: [What you never wanted to know about floating point but will be forced to find out](http://www.volkerschatz.com/science/float.html)"
   ]
  },
  {
   "cell_type": "markdown",
   "id": "0ba030a1",
   "metadata": {},
   "source": [
    "### Expensive Errors"
   ]
  },
  {
   "cell_type": "markdown",
   "id": "9c189027",
   "metadata": {},
   "source": [
    "*The below examples are from Greenbaum & Chartier.*\n",
    "\n",
    "European Space Agency spent 10 years and $7 billion on the Ariane 5 Rocket.\n",
    "\n",
    "What can happen when you try to fit a 64 bit number into a 16 bit space (integer overflow):"
   ]
  },
  {
   "cell_type": "code",
   "execution_count": 4,
   "id": "fa59df0b",
   "metadata": {},
   "outputs": [
    {
     "data": {
      "image/jpeg": "[encoded data removed]",
      "text/html": [
       "\n",
       "        <iframe\n",
       "            width=\"400\"\n",
       "            height=\"300\"\n",
       "            src=\"https://www.youtube.com/embed/PK_yguLapgA\"\n",
       "            frameborder=\"0\"\n",
       "            allowfullscreen\n",
       "            \n",
       "        ></iframe>\n",
       "        "
      ],
      "text/plain": [
       "<IPython.lib.display.YouTubeVideo at 0x1038f5430>"
      ]
     },
     "execution_count": 4,
     "metadata": {},
     "output_type": "execute_result"
    }
   ],
   "source": [
    "from IPython.display import YouTubeVideo\n",
    "YouTubeVideo(\"PK_yguLapgA\")"
   ]
  },
  {
   "cell_type": "markdown",
   "id": "bb3db16e",
   "metadata": {},
   "source": [
    "Here is a floating point error that cost Intel $475 million:"
   ]
  },
  {
   "cell_type": "markdown",
   "id": "2d82bed5",
   "metadata": {},
   "source": [
    "[1994 NYTimes article about Intel Pentium Error](http://www.nytimes.com/1994/11/24/business/company-news-flaw-undermines-accuracy-of-pentium-chips.html)\n",
    "![article](images/pentium_nytimes.png)"
   ]
  },
  {
   "cell_type": "markdown",
   "id": "56732069",
   "metadata": {},
   "source": [
    "## Properties of floating point arthmetic"
   ]
  },
  {
   "cell_type": "markdown",
   "id": "7c9dbd0a",
   "metadata": {},
   "source": [
    "In class"
   ]
  },
  {
   "cell_type": "code",
   "execution_count": null,
   "id": "b6645784",
   "metadata": {},
   "outputs": [],
   "source": []
  }
 ],
 "metadata": {
  "kernelspec": {
   "display_name": "Python 3 (ipykernel)",
   "language": "python",
   "name": "python3"
  },
  "language_info": {
   "codemirror_mode": {
    "name": "ipython",
    "version": 3
   },
   "file_extension": ".py",
   "mimetype": "text/x-python",
   "name": "python",
   "nbconvert_exporter": "python",
   "pygments_lexer": "ipython3",
   "version": "3.9.9"
  }
 },
 "nbformat": 4,
 "nbformat_minor": 5
}
