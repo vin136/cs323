{
 "cells": [
  {
   "cell_type": "markdown",
   "id": "b53e3b2c",
   "metadata": {},
   "source": [
    "## Cramers method"
   ]
  },
  {
   "cell_type": "code",
   "execution_count": 4,
   "id": "dd99e2a5",
   "metadata": {},
   "outputs": [],
   "source": [
    "# Finding solutions using Cramers rule\n",
    "import numpy as np\n",
    "import math\n",
    "import matplotlib.pyplot as plt\n",
    "\n",
    "    "
   ]
  },
  {
   "cell_type": "code",
   "execution_count": 2,
   "id": "bd50a8ee",
   "metadata": {},
   "outputs": [],
   "source": [
    "def cramer_rule(sz=3,mat=[],rhs = []):\n",
    "    assert len(mat)%3 == 0,\"your matrix size doesn't match your unknowns\"\n",
    "    assert len(rhs) == sz,\"your unknowns and rhs values are of not same size\"\n",
    "    mat = np.array(mat).reshape(sz,sz)\n",
    "    rhs = np.array(rhs)\n",
    "    base_det = np.linalg.det(mat)\n",
    "    roots = []\n",
    "    intermediate_dets = []\n",
    "    for i in range(sz):\n",
    "        #modifying the original array\n",
    "        #creating a copy so that original matrix stays intact\n",
    "        new_arr = np.array(mat)\n",
    "        new_arr[:,i] = rhs\n",
    "        i_det = np.linalg.det(new_arr)\n",
    "        intermediate_dets.append(i_det)\n",
    "        roots.append(i_det/base_det)\n",
    "    return roots,intermediate_dets\n",
    "    \n",
    "\n"
   ]
  },
  {
   "cell_type": "code",
   "execution_count": 3,
   "id": "702a8492",
   "metadata": {},
   "outputs": [],
   "source": [
    "sz = 3\n",
    "mat = [3,4,2,-1,3,-4,2,2,5]\n",
    "rhs = [5,2,-6]\n",
    "roots,inter_dets = cramer_rule(sz,mat,rhs)"
   ]
  },
  {
   "cell_type": "code",
   "execution_count": 4,
   "id": "ec82376d",
   "metadata": {},
   "outputs": [
    {
     "data": {
      "text/plain": [
       "[5.243902439024392, -1.2926829268292688, -2.780487804878049]"
      ]
     },
     "execution_count": 4,
     "metadata": {},
     "output_type": "execute_result"
    }
   ],
   "source": [
    "roots"
   ]
  },
  {
   "cell_type": "code",
   "execution_count": 5,
   "id": "fdb13799",
   "metadata": {},
   "outputs": [
    {
     "data": {
      "text/plain": [
       "[5.243902439024392, -1.2926829268292688, -2.780487804878049]"
      ]
     },
     "execution_count": 5,
     "metadata": {},
     "output_type": "execute_result"
    }
   ],
   "source": [
    "roots"
   ]
  },
  {
   "cell_type": "code",
   "execution_count": 6,
   "id": "accbfd95",
   "metadata": {},
   "outputs": [
    {
     "data": {
      "text/plain": [
       "array([[ 5.],\n",
       "       [ 2.],\n",
       "       [-6.]])"
      ]
     },
     "execution_count": 6,
     "metadata": {},
     "output_type": "execute_result"
    }
   ],
   "source": [
    "np.array(mat).reshape(sz,sz)@np.array(roots).reshape(sz,1)"
   ]
  },
  {
   "cell_type": "code",
   "execution_count": 39,
   "id": "37393fd8",
   "metadata": {},
   "outputs": [
    {
     "data": {
      "text/plain": [
       "True"
      ]
     },
     "execution_count": 39,
     "metadata": {},
     "output_type": "execute_result"
    }
   ],
   "source": [
    "#sanity check\n",
    "\n",
    "\n",
    "np.allclose(np.array(rhs).reshape(sz,1),np.array(mat).reshape(sz,sz)@np.array(roots).reshape(sz,1))"
   ]
  },
  {
   "cell_type": "markdown",
   "id": "24e936a5",
   "metadata": {},
   "source": [
    "## Newtons method"
   ]
  },
  {
   "cell_type": "code",
   "execution_count": null,
   "id": "4603ed6f",
   "metadata": {},
   "outputs": [],
   "source": []
  },
  {
   "cell_type": "code",
   "execution_count": 6,
   "id": "0fcb7554",
   "metadata": {},
   "outputs": [],
   "source": [
    "def plot(f,st=-10,end=10,count=100):\n",
    "    import matplotlib.pyplot as plt\n",
    "    x = np.linspace(st,end,count)\n",
    "    y = [f(i) for i in x]\n",
    "    plt.plot(x,y)\n",
    "    "
   ]
  },
  {
   "cell_type": "code",
   "execution_count": 1,
   "id": "146d9303",
   "metadata": {},
   "outputs": [],
   "source": [
    "func = lambda x: 0.5+(x**2)/4-(x*math.sin(x))-0.5*math.cos(2*x)\n",
    "grad_func = lambda x: (x/2)-(math.sin(x)+x*math.cos(x))+math.sin(2*x)"
   ]
  },
  {
   "cell_type": "code",
   "execution_count": 2,
   "id": "a2ce5eae",
   "metadata": {},
   "outputs": [],
   "source": [
    "#just a fancy way of writing functions you can as well write as\n",
    "def func(x):\n",
    "    return 0.5+(x**2)/4-(x*math.sin(x))-0.5*math.cos(2*x)"
   ]
  },
  {
   "cell_type": "code",
   "execution_count": 7,
   "id": "a8ab13bb",
   "metadata": {},
   "outputs": [
    {
     "data": {
      "image/png": "[encoded data removed]",
      "text/plain": [
       "<Figure size 432x288 with 1 Axes>"
      ]
     },
     "metadata": {
      "needs_background": "light"
     },
     "output_type": "display_data"
    }
   ],
   "source": [
    "plot(func,-10,10*math.pi,1000)"
   ]
  },
  {
   "cell_type": "code",
   "execution_count": 9,
   "id": "23fde326",
   "metadata": {},
   "outputs": [],
   "source": [
    "def newton(func,grad,start=math.pi/2,tolerance=10**(-5),max_iter=30,debug=True,domain=None):\n",
    "    cnt = 0\n",
    "    halt=False\n",
    "    estimates = []\n",
    "    while cnt<max_iter and not halt:\n",
    "        #try:\n",
    "        next_x = start - (func(start)/grad(start))\n",
    "        #except:\n",
    "            #print(start)\n",
    "            #import pdb;pdb.set_trace()\n",
    "        estimates.append(next_x)\n",
    "        if abs(start-next_x)<= tolerance:\n",
    "            halt = True\n",
    "        cnt += 1\n",
    "        if debug:\n",
    "            print(f\"iter:{cnt} value:{next_x}\")\n",
    "        \n",
    "        if domain:\n",
    "            if not domain[0]<= next_x <= domain[-1]:\n",
    "                next_x = np.clip(next_x,*domain)\n",
    "        start = next_x\n",
    "    if cnt == max_iter:print(f\"Process Terminated with failure\")\n",
    "    return estimates\n",
    "        \n",
    "    \n",
    "    "
   ]
  },
  {
   "cell_type": "code",
   "execution_count": 14,
   "id": "34d3d9c9",
   "metadata": {},
   "outputs": [
    {
     "name": "stdout",
     "output_type": "stream",
     "text": [
      "iter:1 value:1.7853981633974485\n",
      "iter:2 value:1.844561629601785\n",
      "iter:3 value:1.8708344176888603\n",
      "iter:4 value:1.8833464269272087\n",
      "iter:5 value:1.8894637641822818\n",
      "iter:6 value:1.8924896245342566\n",
      "iter:7 value:1.8939945683559554\n",
      "iter:8 value:1.8947450696912427\n",
      "iter:9 value:1.8951198309096426\n",
      "iter:10 value:1.8953070895523099\n",
      "iter:11 value:1.895400688430785\n",
      "iter:12 value:1.8954474802670205\n",
      "iter:13 value:1.8954708742847959\n",
      "iter:14 value:1.895482570825859\n",
      "iter:15 value:1.8954884189618357\n"
     ]
    }
   ],
   "source": [
    "_  = newton(func,grad_func,start=math.pi/2)"
   ]
  },
  {
   "cell_type": "code",
   "execution_count": 50,
   "id": "40b7526b",
   "metadata": {},
   "outputs": [],
   "source": [
    "#eg:2\n",
    "\n",
    "func1 = lambda x: x**2 - 10*math.cos(x)\n",
    "grad1 = lambda x: 2*x + 10*math.sin(x)"
   ]
  },
  {
   "cell_type": "code",
   "execution_count": 52,
   "id": "29f308a9",
   "metadata": {},
   "outputs": [
    {
     "name": "stdout",
     "output_type": "stream",
     "text": [
      "iter:1 value:-48.74543849889916\n",
      "iter:2 value:-21.596769093971908\n",
      "iter:3 value:-11.484219569105008\n",
      "iter:4 value:-2.488158340945553\n",
      "iter:5 value:-1.2099747956554148\n",
      "iter:6 value:-1.3854492522796145\n",
      "iter:7 value:-1.3793702695076215\n",
      "iter:8 value:-1.3793645942270283\n"
     ]
    }
   ],
   "source": [
    "_ = newton(func1,grad1,start=-100.0,tolerance=10**-4)"
   ]
  },
  {
   "cell_type": "code",
   "execution_count": null,
   "id": "521313ea",
   "metadata": {},
   "outputs": [],
   "source": []
  },
  {
   "cell_type": "markdown",
   "id": "4aefbc6f",
   "metadata": {},
   "source": [
    "## Some advanced magic(beyond the scope of this course)"
   ]
  },
  {
   "cell_type": "code",
   "execution_count": 48,
   "id": "c7614476",
   "metadata": {},
   "outputs": [],
   "source": [
    "# Autodiff\n",
    "\n",
    "\n"
   ]
  },
  {
   "cell_type": "code",
   "execution_count": null,
   "id": "9d0c85e5",
   "metadata": {},
   "outputs": [],
   "source": []
  }
 ],
 "metadata": {
  "kernelspec": {
   "display_name": "Python 3 (ipykernel)",
   "language": "python",
   "name": "python3"
  },
  "language_info": {
   "codemirror_mode": {
    "name": "ipython",
    "version": 3
   },
   "file_extension": ".py",
   "mimetype": "text/x-python",
   "name": "python",
   "nbconvert_exporter": "python",
   "pygments_lexer": "ipython3",
   "version": "3.9.9"
  }
 },
 "nbformat": 4,
 "nbformat_minor": 5
}
